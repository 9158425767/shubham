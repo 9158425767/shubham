{
 "cells": [
  {
   "cell_type": "code",
   "execution_count": null,
   "id": "089491de",
   "metadata": {},
   "outputs": [],
   "source": [
    "1) Write a python program to print \"HHello python\"."
   ]
  },
  {
   "cell_type": "code",
   "execution_count": 1,
   "id": "475e286e",
   "metadata": {},
   "outputs": [
    {
     "name": "stdout",
     "output_type": "stream",
     "text": [
      "hello python\n"
     ]
    }
   ],
   "source": [
    "a = (\"hello python\")\n",
    "print(a)\n"
   ]
  },
  {
   "cell_type": "code",
   "execution_count": null,
   "id": "497ae90d",
   "metadata": {},
   "outputs": [],
   "source": [
    "2) Write a python program to do arithmetical operations addition and division."
   ]
  },
  {
   "cell_type": "code",
   "execution_count": 1,
   "id": "79516e68",
   "metadata": {},
   "outputs": [
    {
     "name": "stdout",
     "output_type": "stream",
     "text": [
      "101\n"
     ]
    }
   ],
   "source": [
    "a=(45)\n",
    "b=(56)\n",
    "print(a+b)"
   ]
  },
  {
   "cell_type": "code",
   "execution_count": 2,
   "id": "16aafa07",
   "metadata": {},
   "outputs": [
    {
     "name": "stdout",
     "output_type": "stream",
     "text": [
      "3.12\n"
     ]
    }
   ],
   "source": [
    "a=(78)\n",
    "b=(25)\n",
    "print(a/b)"
   ]
  },
  {
   "cell_type": "code",
   "execution_count": null,
   "id": "91ab7d8d",
   "metadata": {},
   "outputs": [],
   "source": [
    "3) Write a python program to find the area of a triangle."
   ]
  },
  {
   "cell_type": "code",
   "execution_count": 9,
   "id": "f4a86d19",
   "metadata": {},
   "outputs": [
    {
     "name": "stdout",
     "output_type": "stream",
     "text": [
      "Enter the first number2\n",
      "Enter the second number3\n",
      "Enter the third number4\n",
      "the area is : 2.90\n"
     ]
    }
   ],
   "source": [
    "a = float(input(\"Enter the first number\"))\n",
    "b = float(input(\"Enter the second number\"))\n",
    "c = float(input(\"Enter the third number\"))\n",
    "s = (a+b+c)/2\n",
    "area =(s*(s-a)*(s-b)*(s-c)) ** 0.5\n",
    "print(\"the area is : %0.2f\" % area)\n",
    "\n"
   ]
  },
  {
   "cell_type": "code",
   "execution_count": null,
   "id": "f7be8f03",
   "metadata": {},
   "outputs": [],
   "source": [
    "4) Write a python program to swap two variables."
   ]
  },
  {
   "cell_type": "code",
   "execution_count": 10,
   "id": "05c89e48",
   "metadata": {},
   "outputs": [
    {
     "name": "stdout",
     "output_type": "stream",
     "text": [
      "the value of x is 30\n",
      "the value of y is 15\n"
     ]
    }
   ],
   "source": [
    "x = 15\n",
    "y = 30\n",
    "x, y = y,x\n",
    "print (\"the value of x is\",x)\n",
    "print (\"the value of y is\",y)"
   ]
  },
  {
   "cell_type": "code",
   "execution_count": null,
   "id": "bc270745",
   "metadata": {},
   "outputs": [],
   "source": [
    "5) Write a python program to generate random number."
   ]
  },
  {
   "cell_type": "code",
   "execution_count": 17,
   "id": "f158c80b",
   "metadata": {},
   "outputs": [
    {
     "name": "stdout",
     "output_type": "stream",
     "text": [
      "6\n"
     ]
    }
   ],
   "source": [
    "import random\n",
    "num = random.randint(0,10)\n",
    "print(num)"
   ]
  },
  {
   "cell_type": "code",
   "execution_count": null,
   "id": "53f1df84",
   "metadata": {},
   "outputs": [],
   "source": []
  },
  {
   "cell_type": "code",
   "execution_count": null,
   "id": "3290d842",
   "metadata": {},
   "outputs": [],
   "source": []
  }
 ],
 "metadata": {
  "kernelspec": {
   "display_name": "Python 3 (ipykernel)",
   "language": "python",
   "name": "python3"
  },
  "language_info": {
   "codemirror_mode": {
    "name": "ipython",
    "version": 3
   },
   "file_extension": ".py",
   "mimetype": "text/x-python",
   "name": "python",
   "nbconvert_exporter": "python",
   "pygments_lexer": "ipython3",
   "version": "3.9.12"
  }
 },
 "nbformat": 4,
 "nbformat_minor": 5
}
