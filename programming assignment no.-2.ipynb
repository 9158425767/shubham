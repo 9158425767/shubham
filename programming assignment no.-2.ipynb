{
 "cells": [
  {
   "cell_type": "code",
   "execution_count": null,
   "id": "f6903b12",
   "metadata": {},
   "outputs": [],
   "source": [
    "1) Write a python to convert kilometers to miles."
   ]
  },
  {
   "cell_type": "code",
   "execution_count": 1,
   "id": "42bfa0b9",
   "metadata": {},
   "outputs": [
    {
     "name": "stdout",
     "output_type": "stream",
     "text": [
      "10.00 km = 6.21 miles\n"
     ]
    }
   ],
   "source": [
    "km = 10\n",
    "miles = (km * 0.621371)\n",
    "print(\"%.2f km = %.2f miles\"%(km,miles))"
   ]
  },
  {
   "cell_type": "code",
   "execution_count": null,
   "id": "bf098410",
   "metadata": {},
   "outputs": [],
   "source": [
    "2) Write a python program to convert celsius to fahrenheit."
   ]
  },
  {
   "cell_type": "code",
   "execution_count": 10,
   "id": "0abcb78f",
   "metadata": {},
   "outputs": [
    {
     "name": "stdout",
     "output_type": "stream",
     "text": [
      "37.00 celsius = 98.60 Fahrenheit\n"
     ]
    }
   ],
   "source": [
    "celsius = 37\n",
    "fahrenheit = (celsius * 1.8) + 32\n",
    "print(\"%.2f celsius = %.2f Fahrenheit\" %(celsius,fahrenheit))"
   ]
  },
  {
   "cell_type": "code",
   "execution_count": null,
   "id": "8234775d",
   "metadata": {},
   "outputs": [],
   "source": [
    "3) Write a python program to display calendar."
   ]
  },
  {
   "cell_type": "code",
   "execution_count": 13,
   "id": "b2bfdb52",
   "metadata": {},
   "outputs": [
    {
     "name": "stdout",
     "output_type": "stream",
     "text": [
      "                                  2022\n",
      "\n",
      "      January                   February                   March\n",
      "Mo Tu We Th Fr Sa Su      Mo Tu We Th Fr Sa Su      Mo Tu We Th Fr Sa Su\n",
      "                1  2          1  2  3  4  5  6          1  2  3  4  5  6\n",
      " 3  4  5  6  7  8  9       7  8  9 10 11 12 13       7  8  9 10 11 12 13\n",
      "10 11 12 13 14 15 16      14 15 16 17 18 19 20      14 15 16 17 18 19 20\n",
      "17 18 19 20 21 22 23      21 22 23 24 25 26 27      21 22 23 24 25 26 27\n",
      "24 25 26 27 28 29 30      28                        28 29 30 31\n",
      "31\n",
      "\n",
      "       April                      May                       June\n",
      "Mo Tu We Th Fr Sa Su      Mo Tu We Th Fr Sa Su      Mo Tu We Th Fr Sa Su\n",
      "             1  2  3                         1             1  2  3  4  5\n",
      " 4  5  6  7  8  9 10       2  3  4  5  6  7  8       6  7  8  9 10 11 12\n",
      "11 12 13 14 15 16 17       9 10 11 12 13 14 15      13 14 15 16 17 18 19\n",
      "18 19 20 21 22 23 24      16 17 18 19 20 21 22      20 21 22 23 24 25 26\n",
      "25 26 27 28 29 30         23 24 25 26 27 28 29      27 28 29 30\n",
      "                          30 31\n",
      "\n",
      "        July                     August                  September\n",
      "Mo Tu We Th Fr Sa Su      Mo Tu We Th Fr Sa Su      Mo Tu We Th Fr Sa Su\n",
      "             1  2  3       1  2  3  4  5  6  7                1  2  3  4\n",
      " 4  5  6  7  8  9 10       8  9 10 11 12 13 14       5  6  7  8  9 10 11\n",
      "11 12 13 14 15 16 17      15 16 17 18 19 20 21      12 13 14 15 16 17 18\n",
      "18 19 20 21 22 23 24      22 23 24 25 26 27 28      19 20 21 22 23 24 25\n",
      "25 26 27 28 29 30 31      29 30 31                  26 27 28 29 30\n",
      "\n",
      "      October                   November                  December\n",
      "Mo Tu We Th Fr Sa Su      Mo Tu We Th Fr Sa Su      Mo Tu We Th Fr Sa Su\n",
      "                1  2          1  2  3  4  5  6                1  2  3  4\n",
      " 3  4  5  6  7  8  9       7  8  9 10 11 12 13       5  6  7  8  9 10 11\n",
      "10 11 12 13 14 15 16      14 15 16 17 18 19 20      12 13 14 15 16 17 18\n",
      "17 18 19 20 21 22 23      21 22 23 24 25 26 27      19 20 21 22 23 24 25\n",
      "24 25 26 27 28 29 30      28 29 30                  26 27 28 29 30 31\n",
      "31\n",
      "\n"
     ]
    }
   ],
   "source": [
    "import calendar\n",
    "print(calendar.calendar(2022))"
   ]
  },
  {
   "cell_type": "code",
   "execution_count": null,
   "id": "fa29242d",
   "metadata": {},
   "outputs": [],
   "source": [
    "4) Write a python program to solve quadratic equation."
   ]
  },
  {
   "cell_type": "code",
   "execution_count": 15,
   "id": "79491ba3",
   "metadata": {},
   "outputs": [
    {
     "name": "stdout",
     "output_type": "stream",
     "text": [
      "Enter the value of a: 5\n",
      "Enter the value of b: 8\n",
      "Enter the value of c: 3\n",
      "two distinct real roots are -7.80 and -8.20\n"
     ]
    }
   ],
   "source": [
    "# QUADRATIC EQUATION\n",
    "import math\n",
    "a=int(input(\"Enter the value of a: \"))\n",
    "b=int(input(\"Enter the value of b: \"))\n",
    "c=int(input(\"Enter the value of c: \"))\n",
    "dis= (b**2)-(4*a*c)  # d=discriminant\n",
    "if dis>0:\n",
    "    root1 =(-b + math.sqrt(dis)/(2*a))\n",
    "    root2 =(-b - math.sqrt(dis)/(2*a))\n",
    "    print(\"two distinct real roots are %.2f and %.2f\" %(root1,root2))\n",
    "    \n",
    "elif dis==0:\n",
    "    root1 = roo2 = -b /(2*a)\n",
    "    print(\"two equal and real roots are %.2f and %.2f\" %(root1,root2))\n",
    "    \n",
    "elif dis<0:\n",
    "    root1 = root2 = -b / (2*a)\n",
    "    imaginary = math.sqrt(-dis) / (2*a)\n",
    "    print(\"two distinct complex roots are %.2f + %.2f and %.2f - %.2f\" %(root1,imaginary,root2,imaginary))"
   ]
  },
  {
   "cell_type": "code",
   "execution_count": null,
   "id": "a3bf29b0",
   "metadata": {},
   "outputs": [],
   "source": [
    "5) Write a python program to swap two variables without temp variable."
   ]
  },
  {
   "cell_type": "code",
   "execution_count": 16,
   "id": "8942ac68",
   "metadata": {},
   "outputs": [
    {
     "name": "stdout",
     "output_type": "stream",
     "text": [
      "Enter value of x :10\n",
      "Enter value of y :20\n",
      "after swapping \n",
      " x= 10 y= 20\n",
      "before swapping \n",
      " x= 20 y= 10\n"
     ]
    }
   ],
   "source": [
    "x=int(input('Enter value of x :')) # 10\n",
    "y=int(input('Enter value of y :')) # 20\n",
    "print('after swapping \\n x=',x,'y=',y)\n",
    "x=x+y #30\n",
    "y=x-y #10\n",
    "x=x-y #20\n",
    "print('before swapping \\n x=',x,'y=',y)"
   ]
  }
 ],
 "metadata": {
  "kernelspec": {
   "display_name": "Python 3 (ipykernel)",
   "language": "python",
   "name": "python3"
  },
  "language_info": {
   "codemirror_mode": {
    "name": "ipython",
    "version": 3
   },
   "file_extension": ".py",
   "mimetype": "text/x-python",
   "name": "python",
   "nbconvert_exporter": "python",
   "pygments_lexer": "ipython3",
   "version": "3.9.12"
  }
 },
 "nbformat": 4,
 "nbformat_minor": 5
}
